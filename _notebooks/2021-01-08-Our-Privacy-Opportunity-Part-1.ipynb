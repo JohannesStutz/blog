{
 "cells": [
  {
   "cell_type": "markdown",
   "metadata": {},
   "source": [
    "# The Private AI Series, Course 1, Part 1\n",
    "> \"Society runs on information flows: My summary of lesson 1 & 2 of the first course in The Private AI Series by OpenMined\"\n",
    "\n",
    "- toc: true\n",
    "- branch: master\n",
    "- badges: false\n",
    "- comments: true\n",
    "- categories: [online courses, privacy, the private ai series, openmined]\n",
    "- image: images/articles/2021-01-05-openmined-pt1/title.png\n",
    "- hide: false"
   ]
  },
  {
   "cell_type": "markdown",
   "metadata": {},
   "source": [
    "## I started taking The Private AI Series by OpenMined\n",
    "\n",
    "The series contains four courses, all are free. At the time of writing, only the first one is online.\n",
    "\n",
    "1.\t[Our Privacy Opportunity](https://courses.openmined.org/courses/our-privacy-opportunity)\n",
    "2.\tFoundations of Private Computation\n",
    "3.\tFederated Learning Across Enterprises\n",
    "4.\tFederated Learning on Mobile\n",
    "\n",
    "The first course is non-technical and contains about 8 hours of video, taught by [Emma Bluemke](https://twitter.com/emmabluemke) and [Andrew Trask](https://twitter.com/iamtrask). Additionally, they interview many experts. The course aims to provide an overview of what privacy means, where it currently fails, and how possible solutions look like. One key point is that there are new privacy-enhancing technologies on the rise that will change the way how humans collaborate. This brings with it many career and business opportunities.\n",
    "\n",
    "If you’re interested, sign up at [courses.openmined.org](https://courses.openmined.org/)!\n",
    "\n",
    "Lesson 1 is just introductory. This is my summary of Lesson 2 of *Our Privacy Opportunity*. In addition, I can recommend [Nahua Kang's great summary](https://www.nahua.dev/series/privacy_ai_course_notes/course-1-lesson-2-summary/), it is more thouroughly structured than mine, which I primarily wrote for my forgetful self.\n"
   ]
  },
  {
   "cell_type": "markdown",
   "metadata": {},
   "source": [
    "## Society Runs on Information Flows\n",
    "\n",
    "The main topic of the course is the privacy-transparency trade-off and how it affects a huge number of issues. This lesson walks through some of the most important challenges to society and identifies how the privacy-transparency trade-off underpins them. Improving information flows, by solving this trade-off, can help us in many areas like disinformation, scientific innovation, and even democracy itself.\n",
    "\n",
    "> Important: Every part of the human experience is soaked in information flows. Since the beginning of human collaboration.\n",
    "\n",
    "We share our medical information with our doctor, we share our location with an app to get directions, we share our heart rates and sleeping patterns in hopes of improving our well-being. Every day, we share personal information to exchange goods, receive services, and in general, to collaborate. Sharing information is a part of almost every aspect of our life."
   ]
  },
  {
   "cell_type": "markdown",
   "metadata": {},
   "source": [
    "## Information Flow\n",
    "\n",
    "What is an information flow? Let's take the simple example of email. A sender, a message, a receiver. Probably one of the most straight-forward information flows. But even email is much more nuanced than just the three attributes sender, message, receiver: \n",
    "\n",
    "- Should other people than the receiver be allowed to read it?\n",
    "- Would I be comfortable with the receiver forwarding my email?\n",
    "- The email provider could probably read it, do I trust them to not do so?\n",
    "- Do I want the email provider to read my mail only for a specific purpose, like for spam detection, but not for targeted advertising?\n",
    "- Am I sending my exact identity with the email? Anonymously? Or a mix: as a member of group?\n",
    "- Do I know exactly who the recipient is? When I'm sending the mail to a doctor's office, who reads it? \n",
    "- Can the receiver have confidence in the identity of the sender, whaf if my account was hacked?\n",
    "\n",
    "Questions like these exist around every information flow.\n",
    "\n",
    "Newly emerging communication channels: Snapchat deletes the messages once they've been read and prohibits forwarding or screenshotting. WhatsApp or Signal use end-to-end encryption for messages so it's impossible for anyone other than the intended recipient to read them.  Users switch to these services because of seemingly tiny changes to the guarantees around information flow.\n",
    "This is the beginning of a revolution!\n",
    "\n",
    "> Note: Definition: An **information flow** is a flow of bits from a sender to a receiver. The sender and receiver could either be an exact individual, a member of a group, or an anonymous individual. The identity of the sender, the receiver, and the content of the message itself can be probabilistic.\n",
    "\n",
    "The probabilistic nature is important. Often a piece of information you share does not have an exact recipient."
   ]
  },
  {
   "cell_type": "markdown",
   "metadata": {},
   "source": [
    "## What Does Privacy Mean?\n",
    "\n",
    "Privacy is not about secrecy. People feel that their privacy is violated if information flows in a way they didn't expect. It's all about the *appropriate flow of information*, not about the information itself.\n",
    "\n",
    "> Note: **Privacy** means the ability to ensure information flows that are according to social norms.\n",
    "\n",
    "**Example:** Google Street View: why are people having trouble with Google taking photos of them in their front yard, when anybody could come by and see them exactly there? Because when public information becomes *so much more public*, it bothers us.\n",
    "\n",
    "> Note: This theory of privacy is called **Contextual Integrity:** sharing the same information might be private in one context, but not in another context. It's about achieving appropriate information flow.\n",
    "\n",
    "(There is a bit more to the concept, developed by Helen Nissenbaum, see details on [Wikipedia](https://en.wikipedia.org/wiki/Contextual_Integrity))\n",
    "\n",
    "**Example:** My face is considered public information as soon as I leave the house, because anybody can see it. So why is facial recognition software so troubling? Not only because it could be misused (i.e., for mass surveillance), but because it is identification without my consent. The information flow is not triggered by me, but by whatever system is watching me."
   ]
  },
  {
   "cell_type": "markdown",
   "metadata": {},
   "source": [
    "## Data is Fire 🔥\n",
    "\n",
    "There is the popular notion that \"[data is the new oil](https://www.forbes.com/sites/forbestechcouncil/2019/11/15/data-is-the-new-oil-and-thats-a-good-thing/?sh=6666c9877304)\". A better analogy is \"[data is fire](https://ystrickler.medium.com/data-is-fire-92a110557ef8)\".\n",
    "- It can be duplicated indefinitely\n",
    "- It can help us prosper and solve problems\n",
    "- It can cause irreparable damage if misused\n",
    "\n",
    "This dual-use for good or harm is true for all kinds of data, not just data that is clearly sensitive like medical data.\n",
    "\n",
    "### Everything can be private data\n",
    "\n",
    "Your grocery shopping list is boring, right? Not always. You might not care *now* whether somebody knows you're buying bread. But when you suddenly *stop* buying bread (and other carbs), it might be an indication of the diagnosis of diabetes. Suddenly it's very private information that you might not want to share.\n",
    "\n",
    "> Warning: Anonymization doesn't work!\n",
    "\n",
    "While anonymization seems like the obvious solution to protect the identities of people in data, this does not work reliably. Even when names are removed from data, other features can be used to identify you, thanks to the power of machine learning.\n",
    "\n",
    "And even when your exact identity is not recoverable, data can be used for **targeting**: As long as someone is able to reach you (via your browser, your church, your neighborhood, ...), your name is not at all necessary to do harm.\n",
    "\n",
    "**Example:** Anonymization works so badly, that systematically exploiting its weaknesses can become a business model. Emma talks about a US company that buys anonymized health data and distributes \"market insights\" from it to insurance companies. They can then, for example, avoid selling insurance to high-risk communities like poor neighborhoods, where people are more likely to get sick.\n",
    "\n",
    "Another **example:** Strava released an anonymized heatmap of user activities that revealed the location of US military bases. So, privacy can be relevant not only on an individual level but on an organizational or even national security level.\n",
    "\n",
    "> twitter: https://twitter.com/Nrg8000/status/957318498102865920"
   ]
  },
  {
   "cell_type": "markdown",
   "metadata": {},
   "source": [
    "## Privacy and Transparency Dilemmas\n",
    "\n",
    "Remember the dual-use of data 🔥 from the previous section. Due to the potentially harmful use of data, we have to constantly make trade-offs and decide whether to share information, weighing the benefits and the risks.\n",
    "\n",
    "> Note: A **privacy dilemma** is a trade-off whether or not to reveal information, where revealing that information causes some social good (like advances in medical research) but could also lead to harm (like the misuse of medical data).\n",
    "\n",
    "Privacy dilemmas have various costs. The most obvious is a privacy violation where data is shared in good faith but the information is misused. On the other hand, there are societal costs when information instead is kept secret: a failure to accomplish important outcomes of information flow (scientific progress, meaningful relationships, accountability).\n",
    "\n",
    "> Tip: Privacy dilemmas are untapped market opportunities!\n",
    "\n",
    "Closely related is the transparency dilemma:\n",
    "\n",
    "> Note: A **transparency dilemma** is when someone is forced to make a decision without having access to the information they need to make it.\n",
    "\n",
    "Sometimes the necessary information flows don't exist at all (trusting a stranger to fix your tire), sometimes they exist but their content is not verified (online reviews).\n",
    "\n",
    "Stopping all information flow and locking all data is not the solution to the privacy issue. This would prevent good use of data (think medical care, climate research) and also make undesirable behaviour easier (money laundering, lack of accountability). Maximizing privacy could lead to a lack of transparency!"
   ]
  },
  {
   "cell_type": "markdown",
   "metadata": {},
   "source": [
    "## The Privacy-Transparency Pareto Frontier\n",
    "\n",
    "<figure class=\"image\">\n",
    "<img src=\"../images/articles/2021-01-05-openmined-pt1/privacy-transparency-pareto-tradeoff.png\" width=\"500\" alt=\"\" title=\"The Privacy-Transparency Pareto Trade-Off\" />\n",
    "</figure>\n",
    "<figcaption>This is the privacy-transparency trade-off. More of one means less of the other.</figcaption>\n",
    "\n",
    "We used to have a classic [Pareto trade-off](https://en.wikipedia.org/wiki/Pareto_efficiency) between privacy and transparency. You had to decide whether you share information at the cost of privacy (point **<span style=\"color: #4572c2\">A</span>** in the chart). Or whether you keep information private, but at the cost of transparency (**<span style=\"color: #6eac49\">B</span>**). The question is: how can we move the frontier of this trade-off and have more of both at the same time?\n",
    "\n",
    "<figure class=\"image\">\n",
    "<img src=\"../images/articles/2021-01-05-openmined-pt1/moving-the-privacy-transparency-pareto-tradeoff.png\" width=\"500\" alt=\"\" title=\"Moving the Privacy-Transparency Pareto Frontier\" />\n",
    "</figure>\n",
    "<figcaption>With new privacy-enhancing technologies, we can have more of both privacy and transparency.</figcaption>\n",
    "\n",
    "With new technologies, we can actually move the pareto frontier. Notice that point **<span style=\"color: #6eac49\">B</span>** in this chart has the same amount of privacy as in the first chart, but has a lot more transparency.\n",
    "\n",
    "We don't have a zero-sum game anymore! This will affect  every industry handling valuable, sensitive, or private data.\n",
    "\n",
    "Thanks to these technologies, in the future governments won't have to choose between preserving the privacy of their citizens or protect national security, they can do both. Researchers won't have to decide whether or not to share their data, they can have the benefits from both. Corporations currently often have to choose between the privacy of their users and the accuracy of their products and services, in the future they can have both.\n",
    "\n",
    "How these privacy-enhancing methods look like and which specific technologies are developed, will be covered later in the course."
   ]
  },
  {
   "cell_type": "markdown",
   "metadata": {},
   "source": [
    "## Why We Need to Solve the Privacy-Transparency Trade-Off"
   ]
  },
  {
   "cell_type": "markdown",
   "metadata": {},
   "source": [
    "###  Research is Constrained by Information Flows\n",
    "\n",
    "If there was a way to share data across institutions while making sure it remained private and was used for good, all areas of research would benefit. *More* data would be available, it would be available *faster*, and also: experiments could be replicated more easily."
   ]
  },
  {
   "cell_type": "markdown",
   "metadata": {},
   "source": [
    "###  Healthy Market Competition for Information Services\n",
    "\n",
    "Most services that handle your data will profit from locking you in. Because of privacy concerns they are inherently anti-competitive. More privacy restrictions can actually make it harder for new companies to compete (because you can't move your data from your old to the new provider).\n",
    "\n",
    "We need more interoperability between information service providers.\n",
    "\n",
    "> Note: **Interoperability** means you can buy your shoes from one company and your socks from another. In information services it also means that you should be able to move to a different company and take your data with you.\n",
    "\n",
    "**Example:** Facebook actually started as a company that profited a lot from interoperability. One reason it gained popularity was that users from its established main competitor MySpace could connect their accounts with Facebook and still message with their friends on the old platform. Without this feature, probably less people would have switched to the new platform. This is called *adversarial interoperability*.\n",
    "\n",
    "\n",
    "> Note: The [GDPR](https://en.wikipedia.org/wiki/General_Data_Protection_Regulation) (General Data Protection Regulation) was introduced in the EU in 2018 and has the aim to give individuals control over their personal data.\n",
    "\n",
    "The GDPR is considered a groundbreaking piece of legislation and it is being copied around the world.\n",
    "\n",
    "EU citizens now have 7 rights over their data, including the *right to be forgotten* (a company has to delete all your personal data on request) and the *right of access* (on request, companies have to send you a copy of all data they have of you).\n",
    "\n",
    "> Important: Privacy is not only about preventing information from being shared. Sometimes satisfying privacy is about forcing companies to share or delete your data in a specific way or at a specific time.\n"
   ]
  },
  {
   "cell_type": "markdown",
   "metadata": {},
   "source": [
    "### Data, Energy & the Environment\n",
    "\n",
    "One of society's biggest challenges is the transition to green energy. The volatile nature of renewable energy sources makes nation-wide coordination of energy demand necessary.\n",
    "\n",
    "An area where the privacy-transparency trade-off comes into play is smart meters. Smart meters are highly valuable for the transition to clean energy. Grid operators can have an accurate picture of energy demand, consumers can reduce energy waste. But smart meters can also be extremely privacy invasive, because one can build rich patterns of your energy data. How your daily habits are, when you are or are not at home etc.\n",
    "\n",
    "**Example:** In Taiwan many people have air boxes in their homes to measure pollution. There was a [community-driven effort to collect these measurements](https://www.taiwan-panorama.com.tw/en/Articles/Details?Guid=e34da4f0-b24c-4d88-9f63-e8ab3eee5aaa&CatId=9). They were able to coordinate with millions of people to get this data-sharing system working. The government didn't invest heavily in this technology, but was very interested in the data. In exchange they installed more air boxes in places like public parks and military zones.\n",
    "\n",
    "> Important: The Taiwan example shows that collaboration of millions of people is possible and can solve urgent issues."
   ]
  },
  {
   "cell_type": "markdown",
   "metadata": {},
   "source": [
    "### Feedback Mechanisms & Information Flows\n",
    "\n",
    "We often rely on the opinions of others when we make our decisions. Which car do you buy, which surgeon do you choose for a surgery? But there are more feedback mechanisms. Elections, protests, Facebook likes, going to prison, boycotting, gossip, are all feedback mechanisms.\n",
    "\n",
    "> Note: Feedback mechanism: Someone does something, and later gets positive or negative feedback from those affected by their actions. \n",
    "\n",
    "Feedback mechanisms help each entity in society understand how the world views the work they do so they can do more good things and fewer bad things. They are essential to society's function and unfortunately, due to the privacy-transparency trade-off, many of them are quite broken. This is the case when feedback information is too sensitive or valuable to be shared.\n",
    "\n",
    "What does a broken F.M. scenario look like?\n",
    "\n",
    "**Examples:**\n",
    "\n",
    "- Medical care: When you go for surgery, how good is your surgeon? Can you ask for reviews of previous patients, could you talk to previous nurses? And even if you could, could you talk to enough patients or nurses?\n",
    "- Consumer products: How do you know whether a product is any good? Amazon reviews are [easy to fake](https://www.which.co.uk/news/2019/07/exposed-the-tricks-sellers-use-to-post-fake-reviews-on-amazon/), and the real ones come from only the most polarized users.\n",
    "- Politics: A multiple choice question between a few candidates every 4 years is a *terrible* feedback system for reviewing the legislature of the past 4 years.\n",
    "\n",
    "Most feedback information simply isn't collected, because it would be too personal to collect it."
   ]
  },
  {
   "cell_type": "markdown",
   "metadata": {},
   "source": [
    "### Democracy & Public Health Conversation\n",
    "\n",
    "Democracy is messy. Opinions are formed via social groups. In recent years there was an uptick in polarization, one of the reasons probably being social media where algorithms maximize engagement.\n",
    "\n",
    "A better way can be found in [Taiwan, with the *Polis* system](https://www.theguardian.com/world/2020/sep/27/taiwan-civic-hackers-polis-consensus-social-media-platform). A community-built, nation-wide application that supports conversation between millions of users in Taiwan. It's not optimized for *engagement*, but for *consensus*. People can enter their opinions in written form (tweet-like), and a combination of NLP and voting clusters these opinions. Turns out, opinions aren't actually individual. There are less opinions than there are people because opinions are formed socially. However, the social groups that form our opinions aren't fixed but constantly changing.\n",
    "\n",
    "So, some people emerge as being representative for specific opinions and become thought leaders for this particular matter. But now they must come up with a formulation that will get the most consent *across opinions*.\n",
    "\n",
    "**Example:** When Uber wanted to come to Taiwan, people had very polarized opinions. The solution was: Uber was permitted a temporary license in Taiwan. During this time, the public Taxi sector should adopt the efficient algorithmic approaches from Uber while maintaining current labor standards. If they would succeed, Uber would be banned. If they failed, Uber would be banned unless they met the labor standards of the public system. That put just enough pressure on both sides, and in the end, the public system did improve so much that Uber was excluded."
   ]
  },
  {
   "cell_type": "markdown",
   "metadata": {},
   "source": [
    "### New Market Incentives\n",
    "\n",
    "Today's incentives of companies are often misaligned with the well-being of their users.\n",
    "\n",
    "**Example:** Many online companies use attention (often called engagement) as their key metric. For some this intuitively makes sense, because their revenue is ad-driven. But even companies that run on a subscription model, like Netflix, do it. Netflix's former CEO Reed Hastings famously said they are competing with sleep ([\"And we’re winning!\"](https://www.fastcompany.com/40491939/netflix-ceo-reed-hastings-sleep-is-our-competition)). The question is: why?\n",
    "\n",
    "One answer is that it's a readily available metric which is fine-grained and allows for optimization. Netflix's number of subscribers - which is the number they actually care about - is too coarse to use as a metric. Only if a movie was so good or so bad that it made users subscribe/unsubscribe, it would have a measurable effect. \n",
    "\n",
    "Attention as a metric does work and is probably not a problem when used at a small scale. But at large scale and taken to the extremes it can cause harm, see the Netflix/sleep example.\n",
    "\n",
    "Let's speculate about a better approach: Netflix could try to optimize their experience to improve the users' sleep. But how would they measure it and train an algorithm on it? Fitbits track sleeping patterns, but is it safe to share this data with Netflix?\n",
    "In general, these alternative metrics are called wellness metrics and can improve our lives.\n",
    "\n",
    "> Tip: Technology isn't inherently addictive! Better products are possible.\n",
    "\n",
    "But we need to solve the privacy-transparency trade-off."
   ]
  },
  {
   "cell_type": "markdown",
   "metadata": {},
   "source": [
    "### Safe Data Networks for Business, Governance and R&D\n",
    "\n",
    "How do privacy-transparency trade-offs affect important public information flows?\n",
    "\n",
    "The European Commission recently proposed the [Data Governance Act](https://iapp.org/news/a/proposal-for-an-eu-data-governance-act-a-first-analysis/) to improve data flows around the EU. The motivation: Businesses need data. And if they want to customize their product for each member state, they need data from these states. Data should flow easily through the EU and should be used in the most effective and responsible manner. This increased access to data would advance scientific developments and innovations all across the EU. This is especially important where coordinated action is necessary, like a global pandemic or tackling climate change.\n",
    "\n",
    "So why should data *not* flow entirely freely?\n",
    "1. Commercially sensitive data like trade secrets should be protected. Data access can lead to theft of intellectual property.\n",
    "2. Data is valuable. Not just for a business, but for a country. Who controls the data has an impact on national security.\n",
    "3. Data can be private or sensitive. Fundamental rights of data protection have to be respected.\n",
    "\n",
    "New threats to privacy: New mathematical tools allow reconstruction of personal details even from anonymized datasets. \n",
    "Free-flowing anonymized data access only seems like a good idea if you ignore all of the [European history](https://en.wikipedia.org/wiki/IBM_and_the_Holocaust).\n",
    "\n",
    "Technology advances faster than legislation. Regulation has to consider the power of future analysis techniques. \n",
    "\n",
    "The privacy trade-off here is relevant to individuals, companies and countries. Companies and users should be able to trust that their data is used in a manner that respects their rights and interests. **Trust** will be crucial for data to be willingly shared.\n",
    "\n",
    "But trust doesn't just arise. *How* can we protect the people's rights and interests?\n",
    "\n",
    "Let's daydream: What if the data didn't have to move? What if the institutions within the home country had the only copy of a citizen's sensitive data, which the other countries accessed remotely and easily and in a controlled manner? Instead of transferring the data around Europe, out of the owner's control?\n",
    "\n",
    "Today, there are new techniques to enable privacy-friendly analysis, including **differential privacy** which will be covered during this course."
   ]
  },
  {
   "cell_type": "markdown",
   "metadata": {},
   "source": [
    "### Conflict, Political Science & Information Flows\n",
    "\n",
    "One rational explanation of war: Mutual Optimism. It's extremely hard to predict the outcome of a battle, a war. Both sides can come up with an estimate that says, \"we're more likely to win than not to win\". The sum of the estimates is greater than 1. That's why nations go to war.\n",
    "\n",
    "A way to share private military information to determine the winner (in a digital war game) ahead of time, but without actually giving away military secrets to the opponent, could potentially avoid wars.\n",
    "\n",
    "This is true for other conflicts as well, like legal disputes or commercial competition. If the winner could be determined ahead some conflicts wouldn't be fought.\n",
    "\n",
    "Moving the privacy-transparency trade-off is essential here as well."
   ]
  },
  {
   "cell_type": "markdown",
   "metadata": {},
   "source": [
    "### Disinformation & Information Flows\n",
    "\n",
    "The flow of news is one of the most important information flows in the world. How do you know that what you read in the news is actually true?\n",
    "\n",
    "Before the invention of the printing press, people had the power to talk to maybe 50 people at the same time. For a story to be shared outside your own social circle, you would have to convince other people to talk about it. But today, where the average person has hundreds of contacts on social media, fake news and rumors can spread easily.\n",
    "\n",
    "How to check if news is true?\n",
    "- Have social media platforms emply people who check every bit that is published? Not feasible for hundreds of millions of users.\n",
    "- Let a machine learning algorithm check whether a piece of news is true? Probably a bad idea in the long run, because news are an **information bottleneck**. Detecting fake news only by reading it doesn't work, you have to have knowledge of the world.\n",
    "- Just get off social media? Maybe we're not supposed to be interconnected with that many people?\n",
    "\n",
    "The most interesting solution is currently being deployed in Taiwan:\n",
    "\n",
    "[The Polis platform](https://www.wired.co.uk/article/taiwan-democracy-social-media) (developed by a hacker collective called g0v, pronounced \"gov zero\") aims to improve public discourse. Trained volunteers comment on suspicious stories with reliable sources one might check. Since these comments come from people you know from your local community, you already have a higher level of trust to them. \n",
    "\n",
    "> Important: We have to consider how societies historically dealt with misinformation.\n",
    "\n",
    "It doesn't fix the problem to let the platforms take down false posts. People are curious and won't just accept this as \"huh, this is false then\". This is the beauty of Audrey Tang's work with g0v: constructing information flows that are healthy for society. Not thinking about the most efficient way to prevent a data flow. But to activate existing ways to fight disinformation: get people to help their friends. This might not seem as *efficient*, but will be more *effective* in the long run.\n",
    "\n",
    "Another approach in Taiwan: using humor to foster trust between the state and its citizens. Humor over rumor!\n",
    "\n",
    "> twitter: https://twitter.com/audreyt/status/1252588694147457026"
   ]
  },
  {
   "cell_type": "markdown",
   "metadata": {},
   "source": [
    "## Conclusion\n",
    "\n",
    "The privacy-transparency trade-off or even privacy in general is in service of a higher aim: creating information flows within society that create social good.\n",
    "\n",
    "> Important: Privacy technology is not just about more privacy.\n",
    "\n",
    "Don't just look for use cases that scream \"privacy\". Instead, ask yourself: How can society accomplish its goals with less risk, higher accuracy, faster, and with better aligned incentives than ever before, through better flows of information. \n",
    "\n",
    "> Tip: Entrepreneurial opportunities, regulatory opportunities, investing opportunities: It's not about hiding data; it's about enabling specific information flows (and just these!) to maximize social good.\n",
    "\n",
    "That is the promise of privacy-enhancing technology and has the potential to radically improve every aspect of how we share information.\n",
    "\n",
    "I hope you found this summary helpful. Please let me know any feedback you have here in the comments or on Twitter, I'm [@daflowjoe](https://twitter.com/daflowjoe)"
   ]
  }
 ],
 "metadata": {
  "kernelspec": {
   "display_name": "Python 3",
   "language": "python",
   "name": "python3"
  },
  "language_info": {
   "codemirror_mode": {
    "name": "ipython",
    "version": 3
   },
   "file_extension": ".py",
   "mimetype": "text/x-python",
   "name": "python",
   "nbconvert_exporter": "python",
   "pygments_lexer": "ipython3",
   "version": "3.7.9"
  }
 },
 "nbformat": 4,
 "nbformat_minor": 4
}
